{
 "cells": [
  {
   "cell_type": "markdown",
   "id": "0e75f3bc",
   "metadata": {},
   "source": [
    "### Analyze Data Drift on Employee Attrition Data\n",
    "\n",
    "* Author: L. Saetta\n",
    "* first version: 20/06/2022\n",
    "* updated:       21/06/2002\n",
    "\n",
    "I have developed a function (see end of Notebook) that can be used to compare two (reference, new) datasets to see if there is a **Data Drift**\n",
    "* for numerical features: **Kolmogorov - Smirnov** test\n",
    "* for categorical features: **Chi2 test on contingency table**\n",
    "\n",
    "To show drift, I have used Employee Attrition data, split in two dataset and made some manual changes in order to \"create\" drift\n",
    "\n",
    "* to be used, dataset must entirely fit in memory in a Pandas DF (eventually make good usage of data types when read, for ex. from csv, to reduce memory footprint\n",
    "\n",
    "Summary of changes:\n",
    "* (21/06/2022): describe on dataset only once\n",
    "* (21/06/2022) added computation of wasserstein distance for numerical \n",
    "* (21/06/2022): added selection of features (see exclusion list)\n",
    "* added mean difference for numerical\n",
    "* (21/06/2022): refactored code, introduced drift_analysis.py\n",
    "* (22/06/2022): tested with ADS 2.5.10\n",
    "* (222/06/2022): moved functions for plotting to drift_analysis.py"
   ]
  },
  {
   "cell_type": "code",
   "execution_count": 1,
   "id": "a490e4ae",
   "metadata": {
    "jupyter": {
     "source_hidden": true
    }
   },
   "outputs": [],
   "source": [
    "import pandas as pd\n",
    "import numpy as np\n",
    "import ads\n",
    "\n",
    "from sklearn.model_selection import train_test_split\n",
    "\n",
    "# all the functions with the core of the code have been moved there\n",
    "from drift_analysis import *\n",
    "\n",
    "import logging\n",
    "import warnings\n",
    "\n",
    "import matplotlib.pyplot as plt\n",
    "import seaborn as sns\n",
    "\n",
    "warnings.filterwarnings('ignore')\n",
    "logging.basicConfig(format='%(levelname)s:%(message)s', level=logging.ERROR)\n",
    "\n",
    "%matplotlib inline"
   ]
  },
  {
   "cell_type": "code",
   "execution_count": 2,
   "id": "7309760f",
   "metadata": {
    "jupyter": {
     "source_hidden": true
    }
   },
   "outputs": [
    {
     "name": "stdout",
     "output_type": "stream",
     "text": [
      "2.5.10\n"
     ]
    }
   ],
   "source": [
    "print(ads.__version__)"
   ]
  },
  {
   "cell_type": "code",
   "execution_count": 3,
   "id": "f65c6312",
   "metadata": {
    "jupyter": {
     "source_hidden": true
    }
   },
   "outputs": [],
   "source": [
    "# if you want to recreate csv\n",
    "# !rm *.csv"
   ]
  },
  {
   "cell_type": "code",
   "execution_count": 4,
   "id": "b0b212c4",
   "metadata": {
    "jupyter": {
     "source_hidden": true
    }
   },
   "outputs": [],
   "source": [
    "#\n",
    "# All the functions for plotting moved to data_attrition.py\n",
    "# \n",
    "TARGET = \"Attrition\""
   ]
  },
  {
   "cell_type": "markdown",
   "id": "16c91749",
   "metadata": {},
   "source": [
    "### Read Attrition Dataset from file"
   ]
  },
  {
   "cell_type": "code",
   "execution_count": 5,
   "id": "b108b47a",
   "metadata": {
    "jupyter": {
     "source_hidden": true
    }
   },
   "outputs": [],
   "source": [
    "attrition_path = \"/opt/notebooks/ads-examples/oracle_data/orcl_attrition.csv\"\n",
    "\n",
    "df = pd.read_csv(attrition_path)"
   ]
  },
  {
   "cell_type": "code",
   "execution_count": 6,
   "id": "8a8d7c92",
   "metadata": {
    "jupyter": {
     "source_hidden": true
    }
   },
   "outputs": [],
   "source": [
    "# we don't need these columns (are constant)\n",
    "\n",
    "cols_to_drop = ['Directs','name', 'Over18','WeeklyWorkedHours','EmployeeNumber']\n",
    "\n",
    "df_used = df.drop(columns=cols_to_drop)"
   ]
  },
  {
   "cell_type": "code",
   "execution_count": 7,
   "id": "9d4aee71",
   "metadata": {
    "jupyter": {
     "source_hidden": true
    }
   },
   "outputs": [
    {
     "name": "stdout",
     "output_type": "stream",
     "text": [
      "The list of features:\n"
     ]
    },
    {
     "data": {
      "text/plain": [
       "['HourlyRate',\n",
       " 'Age',\n",
       " 'TravelForWork',\n",
       " 'CommuteLength',\n",
       " 'SalaryLevel',\n",
       " 'MonthlyRate',\n",
       " 'YearsWithCurrManager',\n",
       " 'WorkLifeBalance',\n",
       " 'EnvironmentSatisfaction',\n",
       " 'RelationshipSatisfaction',\n",
       " 'StockOptionLevel',\n",
       " 'YearsinIndustry',\n",
       " 'JobInvolvement',\n",
       " 'MonthlyIncome',\n",
       " 'YearsSinceLastPromotion',\n",
       " 'EducationField',\n",
       " 'JobRole',\n",
       " 'YearsOnJob',\n",
       " 'JobLevel',\n",
       " 'OverTime',\n",
       " 'NumCompaniesWorked',\n",
       " 'PercentSalaryHike',\n",
       " 'JobFunction',\n",
       " 'MaritalStatus',\n",
       " 'PerformanceRating',\n",
       " 'TrainingTimesLastYear',\n",
       " 'EducationalLevel',\n",
       " 'JobSatisfaction',\n",
       " 'YearsAtCurrentLevel',\n",
       " 'Gender']"
      ]
     },
     "execution_count": 7,
     "metadata": {},
     "output_type": "execute_result"
    }
   ],
   "source": [
    "TARGET = 'Attrition'\n",
    "\n",
    "features = list(set(df_used.columns) - set([TARGET]))\n",
    "\n",
    "print(\"The list of features:\")\n",
    "features"
   ]
  },
  {
   "cell_type": "markdown",
   "id": "ee0c6a40",
   "metadata": {},
   "source": [
    "### Create two datasets from the same populations and save to files"
   ]
  },
  {
   "cell_type": "code",
   "execution_count": 8,
   "id": "8d2d8585",
   "metadata": {
    "jupyter": {
     "source_hidden": true
    }
   },
   "outputs": [
    {
     "name": "stdout",
     "output_type": "stream",
     "text": [
      "# of samples in train set 1176\n",
      "# of samples in test set 294\n"
     ]
    }
   ],
   "source": [
    "# train, test split\n",
    "dfx_train, dfx_test= train_test_split(df_used[features], shuffle=True, test_size=0.2, random_state = 1234)\n",
    "\n",
    "print(\"# of samples in train set\", dfx_train.shape[0])\n",
    "print(\"# of samples in test set\", dfx_test.shape[0])"
   ]
  },
  {
   "cell_type": "code",
   "execution_count": 9,
   "id": "519a4f6c",
   "metadata": {
    "jupyter": {
     "source_hidden": true
    }
   },
   "outputs": [],
   "source": [
    "# salvo per creare i due dataset da confrontare\n",
    "dfx_train.to_csv(\"reference.csv\", index=None)\n",
    "dfx_test.to_csv(\"current.csv\", index=None)"
   ]
  },
  {
   "cell_type": "markdown",
   "id": "d1b6d6b8",
   "metadata": {},
   "source": [
    "### Start from the two saved files"
   ]
  },
  {
   "cell_type": "code",
   "execution_count": 10,
   "id": "6dec3763",
   "metadata": {
    "jupyter": {
     "source_hidden": true
    }
   },
   "outputs": [
    {
     "name": "stdout",
     "output_type": "stream",
     "text": [
      "Dividing into Categorical and Continuous features:\n",
      "\n",
      "Categorical columns: ['TravelForWork', 'WorkLifeBalance', 'EnvironmentSatisfaction', 'RelationshipSatisfaction', 'StockOptionLevel', 'JobInvolvement', 'EducationField', 'JobRole', 'JobLevel', 'JobSatisfaction', 'OverTime', 'JobFunction', 'MaritalStatus', 'PerformanceRating', 'TrainingTimesLastYear', 'EducationalLevel', 'Gender']\n",
      "\n",
      "Numerical columns: ['HourlyRate', 'Age', 'CommuteLength', 'YearsOnJob', 'NumCompaniesWorked', 'PercentSalaryHike', 'YearsWithCurrManager', 'YearsinIndustry', 'MonthlyIncome', 'MonthlyRate', 'SalaryLevel', 'YearsAtCurrentLevel', 'YearsSinceLastPromotion']\n"
     ]
    }
   ],
   "source": [
    "# ripartiamo dai file: rileggiamoli (è un restart point)\n",
    "\n",
    "df_set1 = pd.read_csv(\"reference.csv\")\n",
    "df_set2 = pd.read_csv(\"current.csv\")\n",
    "# se leggo solo i file devo rieseeguire:\n",
    "\n",
    "categorical_columns = identify_categorical(df_set1, exc_list=[TARGET])\n",
    "# all the rest\n",
    "numerical_columns = list(set(df_set1.columns) - set(categorical_columns) -set([TARGET]))\n",
    "\n",
    "print(\"Dividing into Categorical and Continuous features:\")\n",
    "print()\n",
    "print(\"Categorical columns:\", categorical_columns)\n",
    "print()\n",
    "print(\"Numerical columns:\", numerical_columns)"
   ]
  },
  {
   "cell_type": "markdown",
   "id": "1f29ddf9",
   "metadata": {},
   "source": [
    "### Start analysis of Numerical Features"
   ]
  },
  {
   "cell_type": "code",
   "execution_count": 11,
   "id": "61df5baa",
   "metadata": {
    "jupyter": {
     "source_hidden": true
    }
   },
   "outputs": [],
   "source": [
    "# invecchiamo Age di tot anni\n",
    "SHIFT1 = 5\n",
    "# Aumentiamo MonthlyIncome\n",
    "SHIFT2 = 2000\n",
    "\n",
    "#\n",
    "# per cambiare le distribuzioni !!\n",
    "#\n",
    "df_set2['Age'] = df_set2['Age'] + SHIFT1\n",
    "df_set2['MonthlyIncome'] = df_set2['MonthlyIncome'] + SHIFT2"
   ]
  },
  {
   "cell_type": "code",
   "execution_count": 12,
   "id": "e35ae48e",
   "metadata": {
    "jupyter": {
     "source_hidden": true
    }
   },
   "outputs": [
    {
     "name": "stdout",
     "output_type": "stream",
     "text": [
      "Identified drift in column: Age\n",
      "p_value: 0.0\n",
      "\n",
      "Identified drift in column: MonthlyIncome\n",
      "p_value: 0.0\n",
      "\n"
     ]
    }
   ],
   "source": [
    "#\n",
    "# Test su numeriche\n",
    "#\n",
    "# using Kolmogorov-Smirnov test check if the data come from the same distribution\n",
    "\n",
    "\n",
    "#\n",
    "# la soglia usata nei test\n",
    "#\n",
    "P_THR = 0.01\n",
    "\n",
    "for col in numerical_columns:\n",
    "    # per prendere solo le numeriche\n",
    "    \n",
    "    stats, p_value = ks_2samp(df_set1[col].values, df_set2[col].values)\n",
    "        \n",
    "    if p_value < P_THR:\n",
    "        print(\"Identified drift in column:\", col)\n",
    "        print(f\"p_value: {round(p_value, 3)}\")\n",
    "        print()"
   ]
  },
  {
   "cell_type": "code",
   "execution_count": 13,
   "id": "46e4aa2d",
   "metadata": {
    "jupyter": {
     "source_hidden": true
    }
   },
   "outputs": [
    {
     "data": {
      "image/png": "[encoded data removed]",
      "text/plain": [
       "<Figure size 648x432 with 1 Axes>"
      ]
     },
     "metadata": {
      "needs_background": "light"
     },
     "output_type": "display_data"
    }
   ],
   "source": [
    "# let's visualize the distributions\n",
    "plot_comparison_numeric(df_set1, df_set2, 'Age')"
   ]
  },
  {
   "cell_type": "code",
   "execution_count": 14,
   "id": "bb78068f",
   "metadata": {
    "jupyter": {
     "source_hidden": true
    }
   },
   "outputs": [
    {
     "data": {
      "image/png": "[encoded data removed]",
      "text/plain": [
       "<Figure size 648x432 with 1 Axes>"
      ]
     },
     "metadata": {
      "needs_background": "light"
     },
     "output_type": "display_data"
    }
   ],
   "source": [
    "plot_comparison_numeric(df_set1, df_set2, 'MonthlyIncome')"
   ]
  },
  {
   "cell_type": "markdown",
   "id": "54f19951",
   "metadata": {},
   "source": [
    "### Then, Categorical Features"
   ]
  },
  {
   "cell_type": "code",
   "execution_count": 15,
   "id": "75cd0909",
   "metadata": {
    "jupyter": {
     "source_hidden": true
    }
   },
   "outputs": [],
   "source": [
    "# create a shift\n",
    "\n",
    "COL = 'MaritalStatus'\n",
    "\n",
    "#\n",
    "# alteriamo set2\n",
    "#\n",
    "condition = (df_set2[COL] == 'Single')\n",
    "df_set2.loc[condition, COL] = 'Married'"
   ]
  },
  {
   "cell_type": "code",
   "execution_count": 16,
   "id": "6b72a173",
   "metadata": {
    "jupyter": {
     "source_hidden": true
    }
   },
   "outputs": [
    {
     "name": "stdout",
     "output_type": "stream",
     "text": [
      "Identified drift in column: MaritalStatus\n",
      "p_value: 0.0\n",
      "\n",
      "Comparison of occurrencies:\n",
      "Reference set: [267. 380. 529.]\n",
      "New set: [ 60.   0. 234.]\n",
      "Index: ['Divorced', 'Single', 'Married']\n",
      "\n"
     ]
    }
   ],
   "source": [
    "#\n",
    "# facciamo il test CHi2 sulla contingency table\n",
    "#\n",
    "\n",
    "for col in categorical_columns:\n",
    "    c_table, index = compute_contingency_table(df_set1[col], df_set2[col])\n",
    "\n",
    "    statistic, p_value, dof, _ = chi2_contingency(c_table)\n",
    "\n",
    "    if p_value < P_THR:\n",
    "        print(\"Identified drift in column:\", col)\n",
    "        print(f\"p_value: {round(p_value, 3)}\")\n",
    "        print()\n",
    "        print(\"Comparison of occurrencies:\")\n",
    "        print(\"Reference set:\", c_table[0,0,:])\n",
    "        print(\"New set:\", c_table[1,0,:])\n",
    "        print(f\"Index: {index}\")\n",
    "        print()"
   ]
  },
  {
   "cell_type": "code",
   "execution_count": 17,
   "id": "896c9628",
   "metadata": {
    "jupyter": {
     "source_hidden": true
    }
   },
   "outputs": [
    {
     "data": {
      "image/png": "[encoded data removed]",
      "text/plain": [
       "<Figure size 648x432 with 1 Axes>"
      ]
     },
     "metadata": {
      "needs_background": "light"
     },
     "output_type": "display_data"
    }
   ],
   "source": [
    "plot_comparison_categorical1(df_set1, df_set2, 'MaritalStatus')"
   ]
  },
  {
   "cell_type": "markdown",
   "id": "812edd6a",
   "metadata": {},
   "source": [
    "### Let's automate everything\n",
    "\n",
    "* we pass as input two DataFrame and get as a result a report that signals is there is some significant change"
   ]
  },
  {
   "cell_type": "code",
   "execution_count": 18,
   "id": "603244c3",
   "metadata": {
    "jupyter": {
     "source_hidden": true
    }
   },
   "outputs": [],
   "source": [
    "# the function identify_data_drift is in drift_analysis.py"
   ]
  },
  {
   "cell_type": "code",
   "execution_count": 19,
   "id": "d58a1971",
   "metadata": {},
   "outputs": [],
   "source": [
    "# to use it read the file as Pandas DataFrame and pass the df\n",
    "df_set1 = pd.read_csv(\"reference.csv\")\n",
    "df_set2 = pd.read_csv(\"current.csv\")\n",
    "\n",
    "# simulate some changes (to remove with real files)\n",
    "df_set2['Age'] = df_set2['Age'] + 2\n",
    "df_set2['MonthlyIncome'] = df_set2['MonthlyIncome'] + 1000\n",
    "# salary level has large variance... therefore to create drift we need a rather big change\n",
    "df_set2['SalaryLevel'] = df_set2['SalaryLevel'] + 800\n",
    "\n",
    "condition = (df_set2['MaritalStatus'] == 'Single')\n",
    "df_set2.loc[condition, 'MaritalStatus'] = 'Married'\n",
    "\n",
    "\n",
    "# check same number of columns\n",
    "assert df_set1.shape[1] == df_set2.shape[1]\n",
    "\n",
    "# do_print=False: I want only the result dict, not printing\n",
    "drifts = identify_data_drift(df_set1, df_set2, do_print=False, exc_list=[\"Attrition\"])"
   ]
  },
  {
   "cell_type": "code",
   "execution_count": 20,
   "id": "1d69d48e",
   "metadata": {},
   "outputs": [
    {
     "data": {
      "text/plain": [
       "[{'Column': 'Age',\n",
       "  'Type': 'continuous',\n",
       "  'p_value': 0.00034,\n",
       "  'threshold': 0.01,\n",
       "  'stats': '[37.81, 9.17, 19.0, 31.0, 36.0, 43.25, 61.0],[40.36, 9.01, 21.0, 34.0, 39.0, 46.75, 63.0]',\n",
       "  'was_distance_norm': 0.067,\n",
       "  'delta_mean_norm': 0.067},\n",
       " {'Column': 'MaritalStatus',\n",
       "  'Type': 'categorical',\n",
       "  'p_value': 0.0,\n",
       "  'threshold': 0.01,\n",
       "  'stats': '[[[267. 380. 529.]]\\n\\n [[ 60.   0. 234.]]]'},\n",
       " {'Column': 'MonthlyIncome',\n",
       "  'Type': 'continuous',\n",
       "  'p_value': 0.0,\n",
       "  'threshold': 0.01,\n",
       "  'stats': '[6433.62, 4614.91, 1009.0, 2931.25, 4965.5, 8097.0, 19973.0],[7780.19, 5061.9, 2359.0, 3888.75, 5815.0, 9862.0, 20999.0]',\n",
       "  'was_distance_norm': 0.209,\n",
       "  'delta_mean_norm': 0.209},\n",
       " {'Column': 'SalaryLevel',\n",
       "  'Type': 'continuous',\n",
       "  'p_value': 0.00025,\n",
       "  'threshold': 0.01,\n",
       "  'stats': '[3703.16, 1850.47, 466.0, 2154.0, 3710.0, 5328.0, 6874.0],[4386.51, 1852.48, 1332.0, 2780.0, 4241.0, 6062.0, 7660.0]',\n",
       "  'was_distance_norm': 0.185,\n",
       "  'delta_mean_norm': 0.185}]"
      ]
     },
     "execution_count": 20,
     "metadata": {},
     "output_type": "execute_result"
    }
   ],
   "source": [
    "# in stats: mean, std, min, perc, max for numerical see df.describe().T\n",
    "# c_table for categorical\n",
    "drifts"
   ]
  },
  {
   "cell_type": "code",
   "execution_count": 21,
   "id": "d21235c6",
   "metadata": {
    "jupyter": {
     "source_hidden": true
    }
   },
   "outputs": [
    {
     "name": "stdout",
     "output_type": "stream",
     "text": [
      "*** Report on evidences of Data Drift identified ***\n",
      "\n"
     ]
    },
    {
     "data": {
      "text/html": [
       "<div>\n",
       "<style scoped>\n",
       "    .dataframe tbody tr th:only-of-type {\n",
       "        vertical-align: middle;\n",
       "    }\n",
       "\n",
       "    .dataframe tbody tr th {\n",
       "        vertical-align: top;\n",
       "    }\n",
       "\n",
       "    .dataframe thead th {\n",
       "        text-align: right;\n",
       "    }\n",
       "</style>\n",
       "<table border=\"1\" class=\"dataframe\">\n",
       "  <thead>\n",
       "    <tr style=\"text-align: right;\">\n",
       "      <th></th>\n",
       "      <th>Column</th>\n",
       "      <th>Type</th>\n",
       "      <th>p_value</th>\n",
       "      <th>threshold</th>\n",
       "      <th>stats</th>\n",
       "      <th>was_distance_norm</th>\n",
       "      <th>delta_mean_norm</th>\n",
       "    </tr>\n",
       "  </thead>\n",
       "  <tbody>\n",
       "    <tr>\n",
       "      <th>0</th>\n",
       "      <td>Age</td>\n",
       "      <td>continuous</td>\n",
       "      <td>0.00034</td>\n",
       "      <td>0.01</td>\n",
       "      <td>[37.81, 9.17, 19.0, 31.0, 36.0, 43.25, 61.0],[...</td>\n",
       "      <td>0.067</td>\n",
       "      <td>0.067</td>\n",
       "    </tr>\n",
       "    <tr>\n",
       "      <th>1</th>\n",
       "      <td>MaritalStatus</td>\n",
       "      <td>categorical</td>\n",
       "      <td>0.00000</td>\n",
       "      <td>0.01</td>\n",
       "      <td>[[[267. 380. 529.]]\\n\\n [[ 60.   0. 234.]]]</td>\n",
       "      <td>NaN</td>\n",
       "      <td>NaN</td>\n",
       "    </tr>\n",
       "    <tr>\n",
       "      <th>2</th>\n",
       "      <td>MonthlyIncome</td>\n",
       "      <td>continuous</td>\n",
       "      <td>0.00000</td>\n",
       "      <td>0.01</td>\n",
       "      <td>[6433.62, 4614.91, 1009.0, 2931.25, 4965.5, 80...</td>\n",
       "      <td>0.209</td>\n",
       "      <td>0.209</td>\n",
       "    </tr>\n",
       "    <tr>\n",
       "      <th>3</th>\n",
       "      <td>SalaryLevel</td>\n",
       "      <td>continuous</td>\n",
       "      <td>0.00025</td>\n",
       "      <td>0.01</td>\n",
       "      <td>[3703.16, 1850.47, 466.0, 2154.0, 3710.0, 5328...</td>\n",
       "      <td>0.185</td>\n",
       "      <td>0.185</td>\n",
       "    </tr>\n",
       "  </tbody>\n",
       "</table>\n",
       "</div>"
      ],
      "text/plain": [
       "          Column         Type  p_value  threshold  \\\n",
       "0            Age   continuous  0.00034       0.01   \n",
       "1  MaritalStatus  categorical  0.00000       0.01   \n",
       "2  MonthlyIncome   continuous  0.00000       0.01   \n",
       "3    SalaryLevel   continuous  0.00025       0.01   \n",
       "\n",
       "                                               stats  was_distance_norm  \\\n",
       "0  [37.81, 9.17, 19.0, 31.0, 36.0, 43.25, 61.0],[...              0.067   \n",
       "1        [[[267. 380. 529.]]\\n\\n [[ 60.   0. 234.]]]                NaN   \n",
       "2  [6433.62, 4614.91, 1009.0, 2931.25, 4965.5, 80...              0.209   \n",
       "3  [3703.16, 1850.47, 466.0, 2154.0, 3710.0, 5328...              0.185   \n",
       "\n",
       "   delta_mean_norm  \n",
       "0            0.067  \n",
       "1              NaN  \n",
       "2            0.209  \n",
       "3            0.185  "
      ]
     },
     "execution_count": 21,
     "metadata": {},
     "output_type": "execute_result"
    }
   ],
   "source": [
    "# if we want results as Pandas\n",
    "result_df = pd.DataFrame(drifts)\n",
    "\n",
    "print(\"*** Report on evidences of Data Drift identified ***\")\n",
    "print()\n",
    "result_df.head()"
   ]
  },
  {
   "cell_type": "code",
   "execution_count": 22,
   "id": "b458bb3b",
   "metadata": {
    "jupyter": {
     "source_hidden": true
    }
   },
   "outputs": [],
   "source": [
    "# in this example, since the two distribution differ for a shift (+ something)\n",
    "# was and delta_mean are equal... but this is not always the case"
   ]
  },
  {
   "cell_type": "markdown",
   "id": "0d0b019e",
   "metadata": {},
   "source": [
    "### Save on file"
   ]
  },
  {
   "cell_type": "code",
   "execution_count": 23,
   "id": "423068ac",
   "metadata": {
    "jupyter": {
     "source_hidden": true
    }
   },
   "outputs": [],
   "source": [
    "# save the df_result on file (so, it can be moved to Object Storage)\n",
    "from datetime import datetime\n",
    "now = datetime.now().strftime('%Y-%m-%d_%H:%M')\n",
    "\n",
    "RESULT_FILE_NAME = f\"drift_analysis_{now}.csv\"\n",
    "\n",
    "result_df.to_csv(RESULT_FILE_NAME)"
   ]
  },
  {
   "cell_type": "code",
   "execution_count": null,
   "id": "0c1b107e",
   "metadata": {
    "jupyter": {
     "source_hidden": true
    }
   },
   "outputs": [],
   "source": []
  }
 ],
 "metadata": {
  "kernelspec": {
   "display_name": "Python [conda env:mygeneralml_p37_cpu_v1_0]",
   "language": "python",
   "name": "conda-env-mygeneralml_p37_cpu_v1_0-py"
  },
  "language_info": {
   "codemirror_mode": {
    "name": "ipython",
    "version": 3
   },
   "file_extension": ".py",
   "mimetype": "text/x-python",
   "name": "python",
   "nbconvert_exporter": "python",
   "pygments_lexer": "ipython3",
   "version": "3.7.12"
  }
 },
 "nbformat": 4,
 "nbformat_minor": 5
}
