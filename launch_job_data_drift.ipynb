{
 "cells": [
  {
   "cell_type": "markdown",
   "id": "8d9a91e9",
   "metadata": {},
   "source": [
    "### JOBS for Data Drift Detection\n",
    "\n",
    "Create, run and monitor a JOB for Data Drift Detection from a NB.\n",
    "\n",
    "In this NoteBook we show how to create, run and monitor a JOB that compare a reference and a new dataset in order to check if there is Data Drift.\n",
    "The code is packed in a tar.gz file, saved in Object Storage"
   ]
  },
  {
   "cell_type": "code",
   "execution_count": 18,
   "id": "47cd292d",
   "metadata": {},
   "outputs": [],
   "source": [
    "import os\n",
    "import ads\n",
    "\n",
    "from ads.jobs import DataScienceJob\n",
    "from ads.jobs import ScriptRuntime\n",
    "from ads.jobs import Job\n",
    "\n",
    "from ads import set_auth"
   ]
  },
  {
   "cell_type": "code",
   "execution_count": 19,
   "id": "065f2556",
   "metadata": {},
   "outputs": [
    {
     "name": "stdout",
     "output_type": "stream",
     "text": [
      "2.5.4\n"
     ]
    }
   ],
   "source": [
    "print(ads.__version__)"
   ]
  },
  {
   "cell_type": "code",
   "execution_count": 20,
   "id": "ea43dded",
   "metadata": {},
   "outputs": [],
   "source": [
    "compartment_id = os.environ['NB_SESSION_COMPARTMENT_OCID']\n",
    "project_id = os.environ['PROJECT_OCID']\n",
    "\n",
    "set_auth(auth='resource_principal')"
   ]
  },
  {
   "cell_type": "code",
   "execution_count": 21,
   "id": "b681232d",
   "metadata": {},
   "outputs": [],
   "source": [
    "# 1. Specify the INfrastructure requested\n",
    "# VM Shape, logging\n",
    "# netwrok is taken from NB session\n",
    "infrastructure = (\n",
    "    DataScienceJob()\n",
    "    .with_shape_name(\"VM.Standard2.4\")\n",
    "    .with_log_group_id(\"ocid1.loggroup.oc1.eu-frankfurt-1.amaaaaaangencdyazs4l4rzrzsarlej6mqlwlbz6bmnx4adwdlssveam2jaa\")\n",
    "    .with_log_id(\"ocid1.log.oc1.eu-frankfurt-1.amaaaaaangencdya47httqmxyiew5tkxa6l7gekev2ljpasixuhmp2fa3v5q\")\n",
    ")"
   ]
  },
  {
   "cell_type": "code",
   "execution_count": 22,
   "id": "22ab71a9",
   "metadata": {},
   "outputs": [],
   "source": [
    "#\n",
    "# all the Python code is packed i drift.tar.gz, saved in a Object Storage bucket\n",
    "# url: oci://drift_input@frqap2zhtzbe/drift.tar.gz\n",
    "#\n",
    "\n",
    "# specify the runtime and conda and env \n",
    "runtime = (\n",
    "    ScriptRuntime()\n",
    "    .with_source(\"oci://drift_input@frqap2zhtzbe/drift.tar.gz\")\n",
    "    .with_service_conda(\"generalml_p37_cpu_v1\")\n",
    "    .with_environment_variable(JOB_RUN_ENTRYPOINT=\"test_drift_analysis.py\")\n",
    ")"
   ]
  },
  {
   "cell_type": "code",
   "execution_count": 23,
   "id": "3eb4a673",
   "metadata": {},
   "outputs": [],
   "source": [
    "# specify the JOB\n",
    "job = (\n",
    "    Job(name=\"job_data_drift2\")\n",
    "    .with_infrastructure(infrastructure)\n",
    "    .with_runtime(runtime)\n",
    ")"
   ]
  },
  {
   "cell_type": "code",
   "execution_count": 24,
   "id": "91248115",
   "metadata": {},
   "outputs": [
    {
     "data": {
      "text/plain": [
       "kind: job\n",
       "spec:\n",
       "  id: ocid1.datasciencejob.oc1.eu-frankfurt-1.amaaaaaangencdyah5gdzd2jjmdolnnd7bvcifnq6mi6rfirddwohvva2xta\n",
       "  infrastructure:\n",
       "    kind: infrastructure\n",
       "    spec:\n",
       "      blockStorageSize: 500\n",
       "      compartmentId: ocid1.compartment.oc1..aaaaaaaag2cpni5qj6li5ny6ehuahhepbpveopobooayqfeudqygdtfe6h3a\n",
       "      displayName: job_data_drift2\n",
       "      jobInfrastructureType: STANDALONE\n",
       "      jobType: DEFAULT\n",
       "      logGroupId: ocid1.loggroup.oc1.eu-frankfurt-1.amaaaaaangencdyazs4l4rzrzsarlej6mqlwlbz6bmnx4adwdlssveam2jaa\n",
       "      logId: ocid1.log.oc1.eu-frankfurt-1.amaaaaaangencdya47httqmxyiew5tkxa6l7gekev2ljpasixuhmp2fa3v5q\n",
       "      projectId: ocid1.datascienceproject.oc1.eu-frankfurt-1.amaaaaaangencdyatmhyp2gmw3hll77lhrup6alcojr56n2iixtt56m35wxa\n",
       "      shapeName: VM.Standard2.4\n",
       "      subnetId: ocid1.subnet.oc1.eu-frankfurt-1.aaaaaaaaijgqblnhpqle2zorl75qli23wre5eboqjtystagdgun4qwdxj4aq\n",
       "    type: dataScienceJob\n",
       "  name: job_data_drift2\n",
       "  runtime:\n",
       "    kind: runtime\n",
       "    spec:\n",
       "      conda:\n",
       "        slug: generalml_p37_cpu_v1\n",
       "        type: service\n",
       "      env:\n",
       "      - name: JOB_RUN_ENTRYPOINT\n",
       "        value: test_drift_analysis.py\n",
       "      scriptPathURI: oci://drift_input@frqap2zhtzbe/drift.tar.gz\n",
       "    type: script"
      ]
     },
     "execution_count": 24,
     "metadata": {},
     "output_type": "execute_result"
    }
   ],
   "source": [
    "# create the JOB\n",
    "job.create()"
   ]
  },
  {
   "cell_type": "code",
   "execution_count": 25,
   "id": "a9bbb812",
   "metadata": {},
   "outputs": [],
   "source": [
    "# run\n",
    "job_run = job.run()"
   ]
  },
  {
   "cell_type": "code",
   "execution_count": 26,
   "id": "553852a3",
   "metadata": {},
   "outputs": [
    {
     "name": "stdout",
     "output_type": "stream",
     "text": [
      "2022-06-21 19:22:39 - Job Run ACCEPTED, Infrastructure provisioning.\n",
      "2022-06-21 19:23:35 - Job Run ACCEPTED, Infrastructure provisioned.\n",
      "2022-06-21 19:23:44 - Job Run ACCEPTED, Job run bootstrap starting.\n",
      "2022-06-21 19:26:43 - Job Run ACCEPTED, Job run bootstrap complete. Artifact execution starting.\n",
      "2022-06-21 19:26:55 - Job Run IN_PROGRESS, Job run artifact execution in progress.\n",
      "2022-06-21 19:26:46 - Matplotlib is building the font cache; this may take a moment.\n",
      "2022-06-21 19:26:51 - Read dataset to compare and analyze...\n",
      "2022-06-21 19:26:51 - \n",
      "2022-06-21 19:26:51 - *** Report on evidences of Data Drift identified ***\n",
      "2022-06-21 19:26:51 - \n",
      "2022-06-21 19:26:52 - p_value: 0.0\n",
      "2022-06-21 19:26:52 - Identified drift in column: Age\n",
      "2022-06-21 19:26:52 - \n",
      "2022-06-21 19:26:52 - Identified drift in column: MonthlyIncome\n",
      "2022-06-21 19:26:52 - \n",
      "2022-06-21 19:26:52 - p_value: 0.0\n",
      "2022-06-21 19:26:52 - [{'Column': 'Age', 'Type': 'continuous', 'p_value': 0.0, 'threshold': 0.01, 'stats': '[37.81, 9.17, 19.0, 31.0, 36.0, 43.25, 61.0],[43.36, 9.01, 24.0, 37.0, 42.0, 49.75, 66.0]', 'was_distance_norm': 0.147, 'delta_mean_norm': 0.147}, {'Column': 'MonthlyIncome', 'Type': 'continuous', 'p_value': 0.0, 'threshold': 0.01, 'stats': '[6433.62, 4614.91, 1009.0, 2931.25, 4965.5, 8097.0, 19973.0],[8780.19, 5061.9, 3359.0, 4888.75, 6815.0, 10862.0, 21999.0]', 'was_distance_norm': 0.365, 'delta_mean_norm': 0.365}]\n",
      "2022-06-21 19:26:52 - Saving result file...\n",
      "2022-06-21 19:26:52 - Data Drift Analysis completed correctly!\n",
      "2022-06-21 19:27:08 - Job Run SUCCEEDED, Job run artifact execution in progress.\n"
     ]
    },
    {
     "data": {
      "text/plain": [
       "compartmentId: ocid1.compartment.oc1..aaaaaaaag2cpni5qj6li5ny6ehuahhepbpveopobooayqfeudqygdtfe6h3a\n",
       "createdBy: ocid1.datasciencenotebooksession.oc1.eu-frankfurt-1.amaaaaaangencdyapcfjgjuueoo2t5qb5b3zidssg37mocoeqqeqbxthtnva\n",
       "definedTags:\n",
       "  default-tags:\n",
       "    CreatedBy: ocid1.datasciencenotebooksession.oc1.eu-frankfurt-1.amaaaaaangencdyapcfjgjuueoo2t5qb5b3zidssg37mocoeqqeqbxthtnva\n",
       "displayName: job_data_drift2-run-20220621-1922\n",
       "id: ocid1.datasciencejobrun.oc1.eu-frankfurt-1.amaaaaaangencdyatg3tn6mtypr2qsoly5gm7amdg7u7qrh2ovasf62vhlyq\n",
       "jobConfigurationOverrideDetails:\n",
       "  jobType: DEFAULT\n",
       "jobId: ocid1.datasciencejob.oc1.eu-frankfurt-1.amaaaaaangencdyah5gdzd2jjmdolnnd7bvcifnq6mi6rfirddwohvva2xta\n",
       "jobInfrastructureConfigurationDetails:\n",
       "  blockStorageSizeInGBs: 500\n",
       "  jobInfrastructureType: STANDALONE\n",
       "  shapeName: VM.Standard2.4\n",
       "  subnetId: ocid1.subnet.oc1.eu-frankfurt-1.aaaaaaaaijgqblnhpqle2zorl75qli23wre5eboqjtystagdgun4qwdxj4aq\n",
       "lifecycleDetails: Job run artifact execution in progress.\n",
       "lifecycleState: SUCCEEDED\n",
       "logDetails:\n",
       "  logGroupId: ocid1.loggroup.oc1.eu-frankfurt-1.amaaaaaangencdyazs4l4rzrzsarlej6mqlwlbz6bmnx4adwdlssveam2jaa\n",
       "  logId: ocid1.log.oc1.eu-frankfurt-1.amaaaaaangencdya47httqmxyiew5tkxa6l7gekev2ljpasixuhmp2fa3v5q\n",
       "projectId: ocid1.datascienceproject.oc1.eu-frankfurt-1.amaaaaaangencdyatmhyp2gmw3hll77lhrup6alcojr56n2iixtt56m35wxa\n",
       "timeAccepted: '2022-06-21T19:22:29.995000Z'\n",
       "timeFinished: '2022-06-21T19:27:07.281000Z'\n",
       "timeStarted: '2022-06-21T19:26:52.675000Z'"
      ]
     },
     "execution_count": 26,
     "metadata": {},
     "output_type": "execute_result"
    }
   ],
   "source": [
    "# watch and stream the job run outputs\n",
    "job_run.watch()"
   ]
  },
  {
   "cell_type": "code",
   "execution_count": null,
   "id": "967ebd49",
   "metadata": {},
   "outputs": [],
   "source": []
  }
 ],
 "metadata": {
  "kernelspec": {
   "display_name": "Python [conda env:generalml_p37_cpu_v1]",
   "language": "python",
   "name": "conda-env-generalml_p37_cpu_v1-py"
  },
  "language_info": {
   "codemirror_mode": {
    "name": "ipython",
    "version": 3
   },
   "file_extension": ".py",
   "mimetype": "text/x-python",
   "name": "python",
   "nbconvert_exporter": "python",
   "pygments_lexer": "ipython3",
   "version": "3.7.12"
  }
 },
 "nbformat": 4,
 "nbformat_minor": 5
}
