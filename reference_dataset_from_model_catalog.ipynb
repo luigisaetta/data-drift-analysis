{
 "cells": [
  {
   "cell_type": "markdown",
   "id": "b6f062d3",
   "metadata": {},
   "source": [
    "###  Drift Analysis: get the Reference Dataset from Model Catalog\n",
    "\n",
    "Model Drift Analysis require two dataset containing not only the features (xi) but also the target.\n",
    "\n",
    "After the Model has beeen trained, the best thing to do is to save it in the Model Catalog and to memorize the url of the dataset used\n",
    "to get train/test split as a custom metadata, that we call \"reference dataset\"\n",
    "\n",
    "In this Notebook I show how to get the dataset (as a Pandas DataFrame) from the custom metadata."
   ]
  },
  {
   "cell_type": "code",
   "execution_count": 1,
   "id": "7c8d1f88",
   "metadata": {},
   "outputs": [],
   "source": [
    "import pandas as pd\n",
    "import numpy as np\n",
    "\n",
    "import ads\n",
    "from ads import set_auth\n",
    "\n",
    "import logging\n",
    "import warnings\n",
    "\n",
    "from drift_analysis import get_reference_dataset_url\n",
    "\n",
    "warnings.filterwarnings('ignore')\n",
    "logging.basicConfig(format='%(levelname)s:%(message)s', level=logging.ERROR)"
   ]
  },
  {
   "cell_type": "code",
   "execution_count": 2,
   "id": "4af18793",
   "metadata": {},
   "outputs": [
    {
     "name": "stdout",
     "output_type": "stream",
     "text": [
      "2.5.10\n"
     ]
    }
   ],
   "source": [
    "# we need ads 2.5.10 or greater\n",
    "print(ads.__version__)"
   ]
  },
  {
   "cell_type": "code",
   "execution_count": 3,
   "id": "2bf81375",
   "metadata": {},
   "outputs": [
    {
     "name": "stdout",
     "output_type": "stream",
     "text": [
      "WARNING:root:~/.oci/config file not exists, default value oci.config.DEFAULT_LOCATION used instead\n"
     ]
    }
   ],
   "source": [
    "# set RP\n",
    "set_auth(auth='resource_principal')"
   ]
  },
  {
   "cell_type": "markdown",
   "id": "f7508ff1",
   "metadata": {},
   "source": [
    "### Getting the reference dataset from the Model Catalog"
   ]
  },
  {
   "cell_type": "code",
   "execution_count": 4,
   "id": "6a5d951a",
   "metadata": {},
   "outputs": [],
   "source": [
    "# the function has been moved to drift_analysis.py"
   ]
  },
  {
   "cell_type": "code",
   "execution_count": 5,
   "id": "c847c440",
   "metadata": {},
   "outputs": [
    {
     "name": "stdout",
     "output_type": "stream",
     "text": [
      "Start loading model.joblib from model directory /tmp/tmpowv3z5ke ...\n",
      "Model is successfully loaded.\n",
      "Start loading model.joblib from model directory /tmp/tmpowv3z5ke ...\n",
      "Model is successfully loaded.\n"
     ]
    }
   ],
   "source": [
    "# take the OCID of the model from the Model Catalog UI\n",
    "MODEL_OCID = \"ocid1.datasciencemodel.oc1.eu-frankfurt-1.amaaaaaangencdyasojemavtoshdggls4rg27i2qctcin6xz3yi3yevhnaha\"\n",
    "\n",
    "ref_url = get_reference_dataset_url(MODEL_OCID)"
   ]
  },
  {
   "cell_type": "code",
   "execution_count": 6,
   "id": "35531705",
   "metadata": {},
   "outputs": [
    {
     "name": "stdout",
     "output_type": "stream",
     "text": [
      "Reference Dataset url: oci://drift_input@frqap2zhtzbe/reference.csv\n"
     ]
    }
   ],
   "source": [
    "print(f\"Reference Dataset url: {ref_url}\")"
   ]
  },
  {
   "cell_type": "code",
   "execution_count": 7,
   "id": "4021c4be",
   "metadata": {},
   "outputs": [
    {
     "data": {
      "text/html": [
       "<div>\n",
       "<style scoped>\n",
       "    .dataframe tbody tr th:only-of-type {\n",
       "        vertical-align: middle;\n",
       "    }\n",
       "\n",
       "    .dataframe tbody tr th {\n",
       "        vertical-align: top;\n",
       "    }\n",
       "\n",
       "    .dataframe thead th {\n",
       "        text-align: right;\n",
       "    }\n",
       "</style>\n",
       "<table border=\"1\" class=\"dataframe\">\n",
       "  <thead>\n",
       "    <tr style=\"text-align: right;\">\n",
       "      <th></th>\n",
       "      <th>TravelForWork</th>\n",
       "      <th>MonthlyRate</th>\n",
       "      <th>PercentSalaryHike</th>\n",
       "      <th>CommuteLength</th>\n",
       "      <th>SalaryLevel</th>\n",
       "      <th>YearsOnJob</th>\n",
       "      <th>JobInvolvement</th>\n",
       "      <th>PerformanceRating</th>\n",
       "      <th>Gender</th>\n",
       "      <th>TrainingTimesLastYear</th>\n",
       "      <th>...</th>\n",
       "      <th>HourlyRate</th>\n",
       "      <th>MonthlyIncome</th>\n",
       "      <th>OverTime</th>\n",
       "      <th>JobSatisfaction</th>\n",
       "      <th>EducationField</th>\n",
       "      <th>JobFunction</th>\n",
       "      <th>EducationalLevel</th>\n",
       "      <th>NumCompaniesWorked</th>\n",
       "      <th>StockOptionLevel</th>\n",
       "      <th>YearsWithCurrManager</th>\n",
       "    </tr>\n",
       "  </thead>\n",
       "  <tbody>\n",
       "    <tr>\n",
       "      <th>0</th>\n",
       "      <td>infrequent</td>\n",
       "      <td>19146</td>\n",
       "      <td>22</td>\n",
       "      <td>2</td>\n",
       "      <td>5640</td>\n",
       "      <td>2</td>\n",
       "      <td>2</td>\n",
       "      <td>4</td>\n",
       "      <td>Male</td>\n",
       "      <td>2</td>\n",
       "      <td>...</td>\n",
       "      <td>33</td>\n",
       "      <td>4775</td>\n",
       "      <td>No</td>\n",
       "      <td>4</td>\n",
       "      <td>Life Sciences</td>\n",
       "      <td>Software Developer</td>\n",
       "      <td>L2</td>\n",
       "      <td>6</td>\n",
       "      <td>2</td>\n",
       "      <td>2</td>\n",
       "    </tr>\n",
       "    <tr>\n",
       "      <th>1</th>\n",
       "      <td>none</td>\n",
       "      <td>3395</td>\n",
       "      <td>23</td>\n",
       "      <td>2</td>\n",
       "      <td>5678</td>\n",
       "      <td>23</td>\n",
       "      <td>2</td>\n",
       "      <td>4</td>\n",
       "      <td>Male</td>\n",
       "      <td>3</td>\n",
       "      <td>...</td>\n",
       "      <td>74</td>\n",
       "      <td>10748</td>\n",
       "      <td>No</td>\n",
       "      <td>3</td>\n",
       "      <td>Life Sciences</td>\n",
       "      <td>Software Developer</td>\n",
       "      <td>L1</td>\n",
       "      <td>3</td>\n",
       "      <td>1</td>\n",
       "      <td>4</td>\n",
       "    </tr>\n",
       "    <tr>\n",
       "      <th>2</th>\n",
       "      <td>infrequent</td>\n",
       "      <td>4510</td>\n",
       "      <td>18</td>\n",
       "      <td>15</td>\n",
       "      <td>2022</td>\n",
       "      <td>5</td>\n",
       "      <td>3</td>\n",
       "      <td>3</td>\n",
       "      <td>Female</td>\n",
       "      <td>2</td>\n",
       "      <td>...</td>\n",
       "      <td>72</td>\n",
       "      <td>4963</td>\n",
       "      <td>Yes</td>\n",
       "      <td>2</td>\n",
       "      <td>Life Sciences</td>\n",
       "      <td>Software Developer</td>\n",
       "      <td>L4</td>\n",
       "      <td>9</td>\n",
       "      <td>3</td>\n",
       "      <td>3</td>\n",
       "    </tr>\n",
       "    <tr>\n",
       "      <th>3</th>\n",
       "      <td>none</td>\n",
       "      <td>17071</td>\n",
       "      <td>16</td>\n",
       "      <td>25</td>\n",
       "      <td>6782</td>\n",
       "      <td>1</td>\n",
       "      <td>4</td>\n",
       "      <td>3</td>\n",
       "      <td>Female</td>\n",
       "      <td>2</td>\n",
       "      <td>...</td>\n",
       "      <td>100</td>\n",
       "      <td>13194</td>\n",
       "      <td>Yes</td>\n",
       "      <td>2</td>\n",
       "      <td>Life Sciences</td>\n",
       "      <td>Product Management</td>\n",
       "      <td>L3</td>\n",
       "      <td>4</td>\n",
       "      <td>0</td>\n",
       "      <td>0</td>\n",
       "    </tr>\n",
       "    <tr>\n",
       "      <th>4</th>\n",
       "      <td>infrequent</td>\n",
       "      <td>18725</td>\n",
       "      <td>23</td>\n",
       "      <td>10</td>\n",
       "      <td>1980</td>\n",
       "      <td>4</td>\n",
       "      <td>3</td>\n",
       "      <td>4</td>\n",
       "      <td>Male</td>\n",
       "      <td>4</td>\n",
       "      <td>...</td>\n",
       "      <td>96</td>\n",
       "      <td>2075</td>\n",
       "      <td>No</td>\n",
       "      <td>4</td>\n",
       "      <td>Life Sciences</td>\n",
       "      <td>Software Developer</td>\n",
       "      <td>L4</td>\n",
       "      <td>3</td>\n",
       "      <td>2</td>\n",
       "      <td>3</td>\n",
       "    </tr>\n",
       "  </tbody>\n",
       "</table>\n",
       "<p>5 rows × 30 columns</p>\n",
       "</div>"
      ],
      "text/plain": [
       "  TravelForWork  MonthlyRate  PercentSalaryHike  CommuteLength  SalaryLevel  \\\n",
       "0    infrequent        19146                 22              2         5640   \n",
       "1          none         3395                 23              2         5678   \n",
       "2    infrequent         4510                 18             15         2022   \n",
       "3          none        17071                 16             25         6782   \n",
       "4    infrequent        18725                 23             10         1980   \n",
       "\n",
       "   YearsOnJob  JobInvolvement  PerformanceRating  Gender  \\\n",
       "0           2               2                  4    Male   \n",
       "1          23               2                  4    Male   \n",
       "2           5               3                  3  Female   \n",
       "3           1               4                  3  Female   \n",
       "4           4               3                  4    Male   \n",
       "\n",
       "   TrainingTimesLastYear  ...  HourlyRate  MonthlyIncome  OverTime  \\\n",
       "0                      2  ...          33           4775        No   \n",
       "1                      3  ...          74          10748        No   \n",
       "2                      2  ...          72           4963       Yes   \n",
       "3                      2  ...         100          13194       Yes   \n",
       "4                      4  ...          96           2075        No   \n",
       "\n",
       "   JobSatisfaction EducationField         JobFunction  EducationalLevel  \\\n",
       "0                4  Life Sciences  Software Developer                L2   \n",
       "1                3  Life Sciences  Software Developer                L1   \n",
       "2                2  Life Sciences  Software Developer                L4   \n",
       "3                2  Life Sciences  Product Management                L3   \n",
       "4                4  Life Sciences  Software Developer                L4   \n",
       "\n",
       "   NumCompaniesWorked StockOptionLevel  YearsWithCurrManager  \n",
       "0                   6                2                     2  \n",
       "1                   3                1                     4  \n",
       "2                   9                3                     3  \n",
       "3                   4                0                     0  \n",
       "4                   3                2                     3  \n",
       "\n",
       "[5 rows x 30 columns]"
      ]
     },
     "execution_count": 7,
     "metadata": {},
     "output_type": "execute_result"
    }
   ],
   "source": [
    "# read the dataset\n",
    "ref_df = pd.read_csv(ref_url)\n",
    "\n",
    "# have a look\n",
    "ref_df.head()"
   ]
  },
  {
   "cell_type": "code",
   "execution_count": null,
   "id": "f8a13fa7",
   "metadata": {},
   "outputs": [],
   "source": []
  }
 ],
 "metadata": {
  "kernelspec": {
   "display_name": "Python [conda env:mygeneralml_p37_cpu_v1_0]",
   "language": "python",
   "name": "conda-env-mygeneralml_p37_cpu_v1_0-py"
  },
  "language_info": {
   "codemirror_mode": {
    "name": "ipython",
    "version": 3
   },
   "file_extension": ".py",
   "mimetype": "text/x-python",
   "name": "python",
   "nbconvert_exporter": "python",
   "pygments_lexer": "ipython3",
   "version": "3.7.12"
  }
 },
 "nbformat": 4,
 "nbformat_minor": 5
}
