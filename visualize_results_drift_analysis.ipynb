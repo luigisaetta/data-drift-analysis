{
 "cells": [
  {
   "cell_type": "markdown",
   "id": "846870b7",
   "metadata": {},
   "source": [
    "### Visualize Result of Data Drift Analysis"
   ]
  },
  {
   "cell_type": "code",
   "execution_count": 1,
   "id": "caaacc8e",
   "metadata": {},
   "outputs": [],
   "source": [
    "import pandas as pd\n",
    "import ocifs"
   ]
  },
  {
   "cell_type": "code",
   "execution_count": 5,
   "id": "caa49be7",
   "metadata": {},
   "outputs": [],
   "source": [
    "# globals\n",
    "NAMESPACE = \"frqap2zhtzbe\"\n",
    "BUCKET_OUT = \"drift_output\""
   ]
  },
  {
   "cell_type": "code",
   "execution_count": 7,
   "id": "2a4a0d23",
   "metadata": {},
   "outputs": [
    {
     "data": {
      "text/plain": [
       "['drift_output@frqap2zhtzbe/drift_analysis_2022-06-21_13_41.csv',\n",
       " 'drift_output@frqap2zhtzbe/drift_analysis_2022-06-21_13_50.csv',\n",
       " 'drift_output@frqap2zhtzbe/drift_analysis_2022-06-21_13_51.csv',\n",
       " 'drift_output@frqap2zhtzbe/drift_analysis_2022-06-21_14_13.csv',\n",
       " 'drift_output@frqap2zhtzbe/drift_analysis_2022-06-21_19_26.csv']"
      ]
     },
     "execution_count": 7,
     "metadata": {},
     "output_type": "execute_result"
    }
   ],
   "source": [
    "# we're using Ocifs to get the list of files in a bucket of Object Storage\n",
    "# get the list of file with result of analysis\n",
    "fs = ocifs.OCIFileSystem(config={})\n",
    "\n",
    "file_list = fs.glob(f\"oci://{BUCKET_OUT}@{NAMESPACE}/*.csv\")\n",
    "\n",
    "file_list"
   ]
  },
  {
   "cell_type": "code",
   "execution_count": 12,
   "id": "f2729d01",
   "metadata": {},
   "outputs": [
    {
     "name": "stdout",
     "output_type": "stream",
     "text": [
      "Results of the last Data Drift Analisys:\n",
      "\n"
     ]
    },
    {
     "data": {
      "text/html": [
       "<div>\n",
       "<style scoped>\n",
       "    .dataframe tbody tr th:only-of-type {\n",
       "        vertical-align: middle;\n",
       "    }\n",
       "\n",
       "    .dataframe tbody tr th {\n",
       "        vertical-align: top;\n",
       "    }\n",
       "\n",
       "    .dataframe thead th {\n",
       "        text-align: right;\n",
       "    }\n",
       "</style>\n",
       "<table border=\"1\" class=\"dataframe\">\n",
       "  <thead>\n",
       "    <tr style=\"text-align: right;\">\n",
       "      <th></th>\n",
       "      <th>Column</th>\n",
       "      <th>Type</th>\n",
       "      <th>p_value</th>\n",
       "      <th>threshold</th>\n",
       "      <th>stats</th>\n",
       "      <th>was_distance_norm</th>\n",
       "      <th>delta_mean_norm</th>\n",
       "    </tr>\n",
       "  </thead>\n",
       "  <tbody>\n",
       "    <tr>\n",
       "      <th>0</th>\n",
       "      <td>Age</td>\n",
       "      <td>continuous</td>\n",
       "      <td>0.0</td>\n",
       "      <td>0.01</td>\n",
       "      <td>[37.81, 9.17, 19.0, 31.0, 36.0, 43.25, 61.0],[...</td>\n",
       "      <td>0.147</td>\n",
       "      <td>0.147</td>\n",
       "    </tr>\n",
       "    <tr>\n",
       "      <th>1</th>\n",
       "      <td>MonthlyIncome</td>\n",
       "      <td>continuous</td>\n",
       "      <td>0.0</td>\n",
       "      <td>0.01</td>\n",
       "      <td>[6433.62, 4614.91, 1009.0, 2931.25, 4965.5, 80...</td>\n",
       "      <td>0.365</td>\n",
       "      <td>0.365</td>\n",
       "    </tr>\n",
       "  </tbody>\n",
       "</table>\n",
       "</div>"
      ],
      "text/plain": [
       "          Column        Type  p_value  threshold  \\\n",
       "0            Age  continuous      0.0       0.01   \n",
       "1  MonthlyIncome  continuous      0.0       0.01   \n",
       "\n",
       "                                               stats  was_distance_norm  \\\n",
       "0  [37.81, 9.17, 19.0, 31.0, 36.0, 43.25, 61.0],[...              0.147   \n",
       "1  [6433.62, 4614.91, 1009.0, 2931.25, 4965.5, 80...              0.365   \n",
       "\n",
       "   delta_mean_norm  \n",
       "0            0.147  \n",
       "1            0.365  "
      ]
     },
     "execution_count": 12,
     "metadata": {},
     "output_type": "execute_result"
    }
   ],
   "source": [
    "# get the last file and read it\n",
    "f_name = file_list[-1]\n",
    "\n",
    "result_df = pd.read_csv(f\"oci://{f_name}\")\n",
    "\n",
    "print(\"Results of the last Data Drift Analysis:\")\n",
    "print()\n",
    "result_df.head()"
   ]
  },
  {
   "cell_type": "code",
   "execution_count": null,
   "id": "2d7e5873",
   "metadata": {},
   "outputs": [],
   "source": []
  }
 ],
 "metadata": {
  "kernelspec": {
   "display_name": "Python [conda env:generalml_p37_cpu_v1]",
   "language": "python",
   "name": "conda-env-generalml_p37_cpu_v1-py"
  },
  "language_info": {
   "codemirror_mode": {
    "name": "ipython",
    "version": 3
   },
   "file_extension": ".py",
   "mimetype": "text/x-python",
   "name": "python",
   "nbconvert_exporter": "python",
   "pygments_lexer": "ipython3",
   "version": "3.7.12"
  }
 },
 "nbformat": 4,
 "nbformat_minor": 5
}
