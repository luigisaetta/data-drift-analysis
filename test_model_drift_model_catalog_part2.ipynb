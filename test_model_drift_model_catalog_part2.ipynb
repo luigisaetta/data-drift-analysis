{
 "cells": [
  {
   "cell_type": "markdown",
   "id": "e258edc0",
   "metadata": {},
   "source": [
    "### Model Drift Analysis: load the model from Model Catalog\n",
    "\n",
    "Model Drift Analysis require two dataset containing not only the features (xi) but also the target.\n",
    "\n",
    "It means that, in order to monitor Model's performances and detect Model drift, we need, in some way, to collect data and analyze the results in order to define the \"ground truth\".\n",
    "\n",
    "In this NB I have put a prototype that can be used to **start working on Model Drift**.\n",
    "\n",
    "The dataset used is again the Employee Attrition Data and the model is based on LightGBM (GBM) and Sklearn pipeline.\n",
    "\n",
    "We simulate a Data Drift (adding a \"shift\" to some features) in order to make performances worse.\n",
    "\n",
    "In the First Part of the NB we train a model on a reference dataset and we save the pipeline + the metrics computed on a reference validation dataset.\n",
    "In the second part we reload the model (pipeline) and we re-evaluate the metrics on a new dataset.\n",
    "All the  results are saved in a csv file that can be easily loaded in a DB."
   ]
  },
  {
   "cell_type": "code",
   "execution_count": 1,
   "id": "45b17e01",
   "metadata": {},
   "outputs": [],
   "source": [
    "import pandas as pd\n",
    "import numpy as np\n",
    "from datetime import datetime\n",
    "import os\n",
    "import tempfile\n",
    "\n",
    "import ads\n",
    "from ads import set_auth\n",
    "\n",
    "# to save to Model Catalog\n",
    "from ads.catalog.model import ModelCatalog\n",
    "from ads.common.model_metadata import UseCaseType, MetadataCustomCategory\n",
    "from ads.model.framework.sklearn_model import SklearnModel\n",
    "\n",
    "# used to serialize the pipeline\n",
    "from pickle import dump, load\n",
    "\n",
    "import lightgbm as lgb\n",
    "\n",
    "from sklearn.metrics import classification_report\n",
    "from sklearn.metrics import get_scorer, make_scorer, f1_score, roc_auc_score, accuracy_score, confusion_matrix, ConfusionMatrixDisplay\n",
    "from sklearn.model_selection import train_test_split\n",
    "\n",
    "# added to handle with pipelines\n",
    "from sklearn.compose import ColumnTransformer, make_column_selector as selector\n",
    "from sklearn.pipeline import Pipeline\n",
    "from sklearn.impute import SimpleImputer\n",
    "from sklearn.preprocessing import StandardScaler, OneHotEncoder, OrdinalEncoder\n",
    "\n",
    "from ads.dataset.factory import DatasetFactory\n",
    "\n",
    "import logging\n",
    "import warnings\n",
    "\n",
    "import matplotlib.pyplot as plt\n",
    "\n",
    "warnings.filterwarnings('ignore')\n",
    "logging.basicConfig(format='%(levelname)s:%(message)s', level=logging.ERROR)\n",
    "\n",
    "%matplotlib inline"
   ]
  },
  {
   "cell_type": "code",
   "execution_count": 2,
   "id": "82251cc5",
   "metadata": {},
   "outputs": [
    {
     "name": "stdout",
     "output_type": "stream",
     "text": [
      "2.5.10\n"
     ]
    }
   ],
   "source": [
    "# we need ads 2.5.10 or greater\n",
    "print(ads.__version__)"
   ]
  },
  {
   "cell_type": "code",
   "execution_count": 3,
   "id": "63fdf25f",
   "metadata": {},
   "outputs": [
    {
     "name": "stdout",
     "output_type": "stream",
     "text": [
      "WARNING:root:~/.oci/config file not exists, default value oci.config.DEFAULT_LOCATION used instead\n"
     ]
    }
   ],
   "source": [
    "# set RP\n",
    "set_auth(auth='resource_principal')"
   ]
  },
  {
   "cell_type": "markdown",
   "id": "74914902",
   "metadata": {},
   "source": [
    "### First Part: train the model"
   ]
  },
  {
   "cell_type": "code",
   "execution_count": 4,
   "id": "c779ff6d",
   "metadata": {},
   "outputs": [],
   "source": [
    "#\n",
    "# definisco le funzioni che identificano le categorie di colonne\n",
    "#\n",
    "def cat_cols_selector(df, target_name):\n",
    "    # the input is the dataframe\n",
    "    \n",
    "    # cols with less than THR values are considered categoricals\n",
    "    THR = 10\n",
    "    \n",
    "    nunique = df.nunique()\n",
    "    types = df.dtypes\n",
    "    \n",
    "    col_list = []\n",
    "    \n",
    "    for col in df.columns:\n",
    "        if ((types[col] == 'object') or (nunique[col] < THR)):\n",
    "            # print(col)\n",
    "            if col != target_name:\n",
    "                col_list.append(col)\n",
    "    \n",
    "    return col_list\n",
    "\n",
    "def num_cols_selector(df, target_name):\n",
    "    THR = 10\n",
    "    \n",
    "    types = df.dtypes\n",
    "    nunique = df.nunique()\n",
    "    \n",
    "    col_list = []\n",
    "    \n",
    "    for col in df.columns:\n",
    "        if (types[col] != 'object') and (nunique[col] >= THR): \n",
    "            # print(col)\n",
    "            if col != target_name:\n",
    "                col_list.append(col)\n",
    "    \n",
    "    return col_list\n",
    "\n",
    "def load_as_dataframe(path):\n",
    "    ds = DatasetFactory.open(path,\n",
    "                             target=\"Attrition\").set_positive_class('Yes')\n",
    "\n",
    "    ds_up = ds.up_sample()\n",
    "\n",
    "    # drop unneeded columns\n",
    "    cols_to_drop = ['Directs','name', 'Over18','WeeklyWorkedHours','EmployeeNumber']\n",
    "\n",
    "    ds_used = ds_up.drop(columns=cols_to_drop)\n",
    "    \n",
    "    df_used = ds_used.to_pandas_dataframe()\n",
    "    \n",
    "    \n",
    "\n",
    "    # train, test split (lo faccio direttamente sui dataframe)\n",
    "    df_train, df_test = train_test_split(df_used, shuffle=True, test_size=0.2, random_state = 1234)\n",
    "\n",
    "    print(\"# of samples in train set\", df_train.shape[0])\n",
    "    print(\"# of samples in test set\", df_test.shape[0])\n",
    "    \n",
    "    return df_train, df_test"
   ]
  },
  {
   "cell_type": "code",
   "execution_count": 5,
   "id": "ea5c0cae",
   "metadata": {},
   "outputs": [
    {
     "data": {
      "application/vnd.jupyter.widget-view+json": {
       "model_id": "ff84d2f5730f4a958265ff89b45f6445",
       "version_major": 2,
       "version_minor": 0
      },
      "text/plain": [
       "loop1:   0%|          | 0/4 [00:00<?, ?it/s]"
      ]
     },
     "metadata": {},
     "output_type": "display_data"
    },
    {
     "name": "stdout",
     "output_type": "stream",
     "text": [
      "# of samples in train set 1972\n",
      "# of samples in test set 494\n",
      "\n",
      "Numerical columns: ['Age', 'SalaryLevel', 'CommuteLength', 'HourlyRate', 'MonthlyIncome', 'MonthlyRate', 'NumCompaniesWorked', 'PercentSalaryHike', 'YearsinIndustry', 'YearsOnJob', 'YearsAtCurrentLevel', 'YearsSinceLastPromotion', 'YearsWithCurrManager'] (13)\n",
      "\n",
      "Categorical columns: ['TravelForWork', 'JobFunction', 'EducationalLevel', 'EducationField', 'EnvironmentSatisfaction', 'Gender', 'JobInvolvement', 'JobLevel', 'JobRole', 'JobSatisfaction', 'MaritalStatus', 'OverTime', 'PerformanceRating', 'RelationshipSatisfaction', 'StockOptionLevel', 'TrainingTimesLastYear', 'WorkLifeBalance'] (17)\n"
     ]
    }
   ],
   "source": [
    "# load the dataset and do upsampling\n",
    "TARGET = 'Attrition'\n",
    "\n",
    "attrition_path = \"/opt/notebooks/ads-examples/oracle_data/orcl_attrition.csv\"\n",
    "\n",
    "df_train, df_test = load_as_dataframe(attrition_path)\n",
    "\n",
    "# uso ancora la classe dataset per fare l'upsampling\n",
    "\n",
    "cat_cols = cat_cols_selector(df_train, TARGET)\n",
    "num_cols = num_cols_selector(df_train, TARGET)\n",
    "\n",
    "print()\n",
    "print(f'Numerical columns: {num_cols} ({len(num_cols)})')\n",
    "print()\n",
    "print(f'Categorical columns: {cat_cols} ({len(cat_cols)})')"
   ]
  },
  {
   "cell_type": "code",
   "execution_count": 6,
   "id": "1a4b61c4",
   "metadata": {},
   "outputs": [],
   "source": [
    "X_train, y_train = df_train.drop([TARGET], axis=1), df_train[TARGET]\n",
    "X_test, y_test = df_test.drop([TARGET], axis=1), df_test[TARGET]"
   ]
  },
  {
   "cell_type": "markdown",
   "id": "8e315a7e",
   "metadata": {},
   "source": [
    "### Second Part: analysis on a new dataset\n",
    "\n",
    "we should load the model from the Catalog"
   ]
  },
  {
   "cell_type": "code",
   "execution_count": 7,
   "id": "54917678",
   "metadata": {},
   "outputs": [
    {
     "name": "stdout",
     "output_type": "stream",
     "text": [
      "Start loading model.joblib from model directory /tmp/tmpboallk34 ...\n",
      "Model is successfully loaded.\n",
      "Start loading model.joblib from model directory /tmp/tmpboallk34 ...\n",
      "Model is successfully loaded.\n"
     ]
    }
   ],
   "source": [
    "# take Model OCID from UI\n",
    "MODEL_OCID = \"ocid1.datasciencemodel.oc1.eu-frankfurt-1.amaaaaaangencdyasojemavtoshdggls4rg27i2qctcin6xz3yi3yevhnaha\"\n",
    "\n",
    "# load ADS model from Model Catalog\n",
    "ads_model = SklearnModel.from_model_catalog(model_id=MODEL_OCID,\n",
    "                                        model_file_name=\"model.pkl\",\n",
    "                                        artifact_dir=tempfile.mkdtemp())"
   ]
  },
  {
   "cell_type": "code",
   "execution_count": 8,
   "id": "8fb27ba3",
   "metadata": {},
   "outputs": [],
   "source": [
    "# take the inner Sklearn pipeline\n",
    "clf = ads_model.estimator"
   ]
  },
  {
   "cell_type": "code",
   "execution_count": 9,
   "id": "01d41db2",
   "metadata": {},
   "outputs": [
    {
     "data": {
      "application/vnd.jupyter.widget-view+json": {
       "model_id": "2191db0827d044e09e1d2e2dcce762a4",
       "version_major": 2,
       "version_minor": 0
      },
      "text/plain": [
       "loop1:   0%|          | 0/4 [00:00<?, ?it/s]"
      ]
     },
     "metadata": {},
     "output_type": "display_data"
    },
    {
     "name": "stdout",
     "output_type": "stream",
     "text": [
      "# of samples in train set 1972\n",
      "# of samples in test set 494\n"
     ]
    }
   ],
   "source": [
    "# restart from the dataset (in reality we'll have a new dataset, here we're simulating the changes)\n",
    "df_train, df_test = load_as_dataframe(attrition_path)\n",
    "\n",
    "X_test, y_test = df_test.drop([TARGET], axis=1), df_test[TARGET]"
   ]
  },
  {
   "cell_type": "code",
   "execution_count": 10,
   "id": "e9d7b3d8",
   "metadata": {},
   "outputs": [],
   "source": [
    "# simulate some changes in the dataset\n",
    "# we use again the test set, but with a \"Data Drift\"\n",
    "\n",
    "X_test['SalaryLevel'] = X_test['SalaryLevel'] - 3000\n",
    "X_test['Age'] = X_test['Age'] + 20"
   ]
  },
  {
   "cell_type": "code",
   "execution_count": 11,
   "id": "62054c9d",
   "metadata": {},
   "outputs": [
    {
     "name": "stdout",
     "output_type": "stream",
     "text": [
      "Validation set result:\n",
      "Acc: 0.913, AUC: 0.9651\n"
     ]
    }
   ],
   "source": [
    "# scoring: compute new metrics\n",
    "test_pred = clf.predict(X_test)\n",
    "test_probas = clf.predict_proba(X_test)\n",
    "\n",
    "print('Validation set result:')\n",
    "\n",
    "roc_auc = round(roc_auc_score(y_test, test_probas[:,1]), 4)\n",
    "acc = round(accuracy_score(y_test, test_pred), 4)\n",
    "\n",
    "print(f\"Acc: {acc}, AUC: {roc_auc}\")"
   ]
  },
  {
   "cell_type": "code",
   "execution_count": 12,
   "id": "22366c33",
   "metadata": {},
   "outputs": [],
   "source": [
    "# we can see that metrics are worse if compared to those registered in the model catalog"
   ]
  },
  {
   "cell_type": "code",
   "execution_count": 13,
   "id": "1b7f62fa",
   "metadata": {},
   "outputs": [],
   "source": [
    "# add a second row to the file\n",
    "\n",
    "# read old file\n",
    "model_metrics = pd.read_csv(\"model_metrics.csv\")\n",
    "\n",
    "# compute new row\n",
    "now = datetime.now().strftime('%Y-%m-%d %H:%M')\n",
    "dict_ref = [{\n",
    "    \"ts_date\": now,\n",
    "    \"model_name\": \"lgb1\",\n",
    "    \"algorithm\": \"lightgbm\",\n",
    "    \"accuracy\": acc,\n",
    "    \"roc_auc\": roc_auc\n",
    "}]\n",
    "\n",
    "# new df\n",
    "df_new_metrics = pd.DataFrame(dict_ref)\n",
    "\n",
    "new_model_metrics = pd.concat([model_metrics, df_new_metrics])\n",
    "\n",
    "# save to an updated file\n",
    "new_model_metrics.to_csv(\"model_metrics.csv\", index=None)"
   ]
  },
  {
   "cell_type": "markdown",
   "id": "3cbd6258",
   "metadata": {},
   "source": [
    "### Getting the reference dataset from the Model Catalog"
   ]
  },
  {
   "cell_type": "code",
   "execution_count": 20,
   "id": "3b1c98b9",
   "metadata": {},
   "outputs": [
    {
     "data": {
      "text/html": [
       "<div>\n",
       "<style scoped>\n",
       "    .dataframe tbody tr th:only-of-type {\n",
       "        vertical-align: middle;\n",
       "    }\n",
       "\n",
       "    .dataframe tbody tr th {\n",
       "        vertical-align: top;\n",
       "    }\n",
       "\n",
       "    .dataframe thead th {\n",
       "        text-align: right;\n",
       "    }\n",
       "</style>\n",
       "<table border=\"1\" class=\"dataframe\">\n",
       "  <thead>\n",
       "    <tr style=\"text-align: right;\">\n",
       "      <th></th>\n",
       "      <th>Key</th>\n",
       "      <th>Value</th>\n",
       "      <th>Description</th>\n",
       "      <th>Category</th>\n",
       "    </tr>\n",
       "  </thead>\n",
       "  <tbody>\n",
       "    <tr>\n",
       "      <th>0</th>\n",
       "      <td>ClientLibrary</td>\n",
       "      <td>ADS</td>\n",
       "      <td>None</td>\n",
       "      <td>Other</td>\n",
       "    </tr>\n",
       "    <tr>\n",
       "      <th>1</th>\n",
       "      <td>CondaEnvironment</td>\n",
       "      <td>oci://service-conda-packs@id19sfcrra6z/service_pack/cpu/General Machine Learning for CPUs on Python 3.7/1.0/generalml_p37_cpu_v1</td>\n",
       "      <td>The conda environment where the model was trained.</td>\n",
       "      <td>Training Environment</td>\n",
       "    </tr>\n",
       "    <tr>\n",
       "      <th>2</th>\n",
       "      <td>CondaEnvironmentPath</td>\n",
       "      <td>oci://service-conda-packs@id19sfcrra6z/service_pack/cpu/General Machine Learning for CPUs on Python 3.7/1.0/generalml_p37_cpu_v1</td>\n",
       "      <td>The URI of the training conda environment.</td>\n",
       "      <td>Training Environment</td>\n",
       "    </tr>\n",
       "    <tr>\n",
       "      <th>3</th>\n",
       "      <td>EnvironmentType</td>\n",
       "      <td>data_science</td>\n",
       "      <td>The conda environment type, can be published or datascience.</td>\n",
       "      <td>Training Environment</td>\n",
       "    </tr>\n",
       "    <tr>\n",
       "      <th>4</th>\n",
       "      <td>ModelArtifacts</td>\n",
       "      <td>score.py, model.joblib, runtime.yaml</td>\n",
       "      <td>The list of files located in artifacts folder.</td>\n",
       "      <td>Training Environment</td>\n",
       "    </tr>\n",
       "    <tr>\n",
       "      <th>5</th>\n",
       "      <td>ModelSerializationFormat</td>\n",
       "      <td>joblib</td>\n",
       "      <td>The model serialization format.</td>\n",
       "      <td>Training Profile</td>\n",
       "    </tr>\n",
       "    <tr>\n",
       "      <th>6</th>\n",
       "      <td>SlugName</td>\n",
       "      <td>generalml_p37_cpu_v1</td>\n",
       "      <td>The slug name of the training conda environment.</td>\n",
       "      <td>Training Environment</td>\n",
       "    </tr>\n",
       "    <tr>\n",
       "      <th>7</th>\n",
       "      <td>metrics on reference set</td>\n",
       "      <td>{'accuracy': 0.9494, 'roc_auc': 0.9951}</td>\n",
       "      <td>Metrics evaluated on reference dataset</td>\n",
       "      <td>Performance</td>\n",
       "    </tr>\n",
       "    <tr>\n",
       "      <th>8</th>\n",
       "      <td>reference dataset</td>\n",
       "      <td>oci://drift_input@frqap2zhtzbe/reference.csv</td>\n",
       "      <td>Reference dataset url. From this dataset have been extracted train/validation dataset</td>\n",
       "      <td>Training and Validation Datasets</td>\n",
       "    </tr>\n",
       "  </tbody>\n",
       "</table>\n",
       "</div>"
      ],
      "text/plain": [
       "                        Key  \\\n",
       "0             ClientLibrary   \n",
       "1          CondaEnvironment   \n",
       "2      CondaEnvironmentPath   \n",
       "3           EnvironmentType   \n",
       "4            ModelArtifacts   \n",
       "5  ModelSerializationFormat   \n",
       "6                  SlugName   \n",
       "7  metrics on reference set   \n",
       "8         reference dataset   \n",
       "\n",
       "                                                                                                                              Value  \\\n",
       "0                                                                                                                               ADS   \n",
       "1  oci://service-conda-packs@id19sfcrra6z/service_pack/cpu/General Machine Learning for CPUs on Python 3.7/1.0/generalml_p37_cpu_v1   \n",
       "2  oci://service-conda-packs@id19sfcrra6z/service_pack/cpu/General Machine Learning for CPUs on Python 3.7/1.0/generalml_p37_cpu_v1   \n",
       "3                                                                                                                      data_science   \n",
       "4                                                                                              score.py, model.joblib, runtime.yaml   \n",
       "5                                                                                                                            joblib   \n",
       "6                                                                                                              generalml_p37_cpu_v1   \n",
       "7                                                                                           {'accuracy': 0.9494, 'roc_auc': 0.9951}   \n",
       "8                                                                                      oci://drift_input@frqap2zhtzbe/reference.csv   \n",
       "\n",
       "                                                                             Description  \\\n",
       "0                                                                                   None   \n",
       "1                                     The conda environment where the model was trained.   \n",
       "2                                             The URI of the training conda environment.   \n",
       "3                           The conda environment type, can be published or datascience.   \n",
       "4                                         The list of files located in artifacts folder.   \n",
       "5                                                        The model serialization format.   \n",
       "6                                       The slug name of the training conda environment.   \n",
       "7                                                 Metrics evaluated on reference dataset   \n",
       "8  Reference dataset url. From this dataset have been extracted train/validation dataset   \n",
       "\n",
       "                           Category  \n",
       "0                             Other  \n",
       "1              Training Environment  \n",
       "2              Training Environment  \n",
       "3              Training Environment  \n",
       "4              Training Environment  \n",
       "5                  Training Profile  \n",
       "6              Training Environment  \n",
       "7                       Performance  \n",
       "8  Training and Validation Datasets  "
      ]
     },
     "execution_count": 20,
     "metadata": {},
     "output_type": "execute_result"
    }
   ],
   "source": [
    "# I can get thecustom metrics as a Pandas Dataframe\n",
    "meta_df = ads_model.metadata_custom.to_dataframe()\n",
    "\n",
    "meta_df.head(10)"
   ]
  },
  {
   "cell_type": "code",
   "execution_count": 36,
   "id": "8976c49c",
   "metadata": {},
   "outputs": [],
   "source": [
    "from ads.model.generic_model import GenericModel\n",
    "\n",
    "def get_reference_dataset_url(gen_model):\n",
    "    # take the custom metadata as Pandas df\n",
    "    meta_df = gen_model.metadata_custom.to_dataframe()\n",
    "    \n",
    "    # get only one row\n",
    "    condition = (meta_df['Key'] == \"reference dataset\")\n",
    "    ref_ds_url = meta_df.loc[condition]['Value']\n",
    "\n",
    "    # it is a np array... take the only row\n",
    "    return ref_ds_url.values[0]"
   ]
  },
  {
   "cell_type": "code",
   "execution_count": 42,
   "id": "1bda5eb3",
   "metadata": {},
   "outputs": [
    {
     "name": "stdout",
     "output_type": "stream",
     "text": [
      "Start loading model.joblib from model directory /tmp/tmp3xwuasve ...\n",
      "Model is successfully loaded.\n",
      "Start loading model.joblib from model directory /tmp/tmp3xwuasve ...\n",
      "Model is successfully loaded.\n"
     ]
    }
   ],
   "source": [
    "MODEL_OCID = \"ocid1.datasciencemodel.oc1.eu-frankfurt-1.amaaaaaangencdyasojemavtoshdggls4rg27i2qctcin6xz3yi3yevhnaha\"\n",
    "\n",
    "# load model from Model Catalog\n",
    "# for reading custom metadata I can use GenericModel\n",
    "generic_model = GenericModel.from_model_catalog(model_id=MODEL_OCID,\n",
    "                                                # only for temporary use\n",
    "                                                model_file_name=\"gen_model.pkl\",\n",
    "                                                artifact_dir=tempfile.mkdtemp())\n",
    "\n",
    "ref_url = get_reference_dataset_url(generic_model)"
   ]
  },
  {
   "cell_type": "code",
   "execution_count": 43,
   "id": "e05d428a",
   "metadata": {},
   "outputs": [
    {
     "name": "stdout",
     "output_type": "stream",
     "text": [
      "Reference Dataset url: oci://drift_input@frqap2zhtzbe/reference.csv\n"
     ]
    }
   ],
   "source": [
    "print(f\"Reference Dataset url: {ref_url}\")"
   ]
  },
  {
   "cell_type": "code",
   "execution_count": 45,
   "id": "d828eb34",
   "metadata": {},
   "outputs": [
    {
     "data": {
      "text/html": [
       "<div>\n",
       "<style scoped>\n",
       "    .dataframe tbody tr th:only-of-type {\n",
       "        vertical-align: middle;\n",
       "    }\n",
       "\n",
       "    .dataframe tbody tr th {\n",
       "        vertical-align: top;\n",
       "    }\n",
       "\n",
       "    .dataframe thead th {\n",
       "        text-align: right;\n",
       "    }\n",
       "</style>\n",
       "<table border=\"1\" class=\"dataframe\">\n",
       "  <thead>\n",
       "    <tr style=\"text-align: right;\">\n",
       "      <th></th>\n",
       "      <th>TravelForWork</th>\n",
       "      <th>MonthlyRate</th>\n",
       "      <th>PercentSalaryHike</th>\n",
       "      <th>CommuteLength</th>\n",
       "      <th>SalaryLevel</th>\n",
       "      <th>YearsOnJob</th>\n",
       "      <th>JobInvolvement</th>\n",
       "      <th>PerformanceRating</th>\n",
       "      <th>Gender</th>\n",
       "      <th>TrainingTimesLastYear</th>\n",
       "      <th>...</th>\n",
       "      <th>HourlyRate</th>\n",
       "      <th>MonthlyIncome</th>\n",
       "      <th>OverTime</th>\n",
       "      <th>JobSatisfaction</th>\n",
       "      <th>EducationField</th>\n",
       "      <th>JobFunction</th>\n",
       "      <th>EducationalLevel</th>\n",
       "      <th>NumCompaniesWorked</th>\n",
       "      <th>StockOptionLevel</th>\n",
       "      <th>YearsWithCurrManager</th>\n",
       "    </tr>\n",
       "  </thead>\n",
       "  <tbody>\n",
       "    <tr>\n",
       "      <th>0</th>\n",
       "      <td>infrequent</td>\n",
       "      <td>19146</td>\n",
       "      <td>22</td>\n",
       "      <td>2</td>\n",
       "      <td>5640</td>\n",
       "      <td>2</td>\n",
       "      <td>2</td>\n",
       "      <td>4</td>\n",
       "      <td>Male</td>\n",
       "      <td>2</td>\n",
       "      <td>...</td>\n",
       "      <td>33</td>\n",
       "      <td>4775</td>\n",
       "      <td>No</td>\n",
       "      <td>4</td>\n",
       "      <td>Life Sciences</td>\n",
       "      <td>Software Developer</td>\n",
       "      <td>L2</td>\n",
       "      <td>6</td>\n",
       "      <td>2</td>\n",
       "      <td>2</td>\n",
       "    </tr>\n",
       "    <tr>\n",
       "      <th>1</th>\n",
       "      <td>none</td>\n",
       "      <td>3395</td>\n",
       "      <td>23</td>\n",
       "      <td>2</td>\n",
       "      <td>5678</td>\n",
       "      <td>23</td>\n",
       "      <td>2</td>\n",
       "      <td>4</td>\n",
       "      <td>Male</td>\n",
       "      <td>3</td>\n",
       "      <td>...</td>\n",
       "      <td>74</td>\n",
       "      <td>10748</td>\n",
       "      <td>No</td>\n",
       "      <td>3</td>\n",
       "      <td>Life Sciences</td>\n",
       "      <td>Software Developer</td>\n",
       "      <td>L1</td>\n",
       "      <td>3</td>\n",
       "      <td>1</td>\n",
       "      <td>4</td>\n",
       "    </tr>\n",
       "    <tr>\n",
       "      <th>2</th>\n",
       "      <td>infrequent</td>\n",
       "      <td>4510</td>\n",
       "      <td>18</td>\n",
       "      <td>15</td>\n",
       "      <td>2022</td>\n",
       "      <td>5</td>\n",
       "      <td>3</td>\n",
       "      <td>3</td>\n",
       "      <td>Female</td>\n",
       "      <td>2</td>\n",
       "      <td>...</td>\n",
       "      <td>72</td>\n",
       "      <td>4963</td>\n",
       "      <td>Yes</td>\n",
       "      <td>2</td>\n",
       "      <td>Life Sciences</td>\n",
       "      <td>Software Developer</td>\n",
       "      <td>L4</td>\n",
       "      <td>9</td>\n",
       "      <td>3</td>\n",
       "      <td>3</td>\n",
       "    </tr>\n",
       "    <tr>\n",
       "      <th>3</th>\n",
       "      <td>none</td>\n",
       "      <td>17071</td>\n",
       "      <td>16</td>\n",
       "      <td>25</td>\n",
       "      <td>6782</td>\n",
       "      <td>1</td>\n",
       "      <td>4</td>\n",
       "      <td>3</td>\n",
       "      <td>Female</td>\n",
       "      <td>2</td>\n",
       "      <td>...</td>\n",
       "      <td>100</td>\n",
       "      <td>13194</td>\n",
       "      <td>Yes</td>\n",
       "      <td>2</td>\n",
       "      <td>Life Sciences</td>\n",
       "      <td>Product Management</td>\n",
       "      <td>L3</td>\n",
       "      <td>4</td>\n",
       "      <td>0</td>\n",
       "      <td>0</td>\n",
       "    </tr>\n",
       "    <tr>\n",
       "      <th>4</th>\n",
       "      <td>infrequent</td>\n",
       "      <td>18725</td>\n",
       "      <td>23</td>\n",
       "      <td>10</td>\n",
       "      <td>1980</td>\n",
       "      <td>4</td>\n",
       "      <td>3</td>\n",
       "      <td>4</td>\n",
       "      <td>Male</td>\n",
       "      <td>4</td>\n",
       "      <td>...</td>\n",
       "      <td>96</td>\n",
       "      <td>2075</td>\n",
       "      <td>No</td>\n",
       "      <td>4</td>\n",
       "      <td>Life Sciences</td>\n",
       "      <td>Software Developer</td>\n",
       "      <td>L4</td>\n",
       "      <td>3</td>\n",
       "      <td>2</td>\n",
       "      <td>3</td>\n",
       "    </tr>\n",
       "  </tbody>\n",
       "</table>\n",
       "<p>5 rows × 30 columns</p>\n",
       "</div>"
      ],
      "text/plain": [
       "  TravelForWork  MonthlyRate  PercentSalaryHike  CommuteLength  SalaryLevel  \\\n",
       "0    infrequent        19146                 22              2         5640   \n",
       "1          none         3395                 23              2         5678   \n",
       "2    infrequent         4510                 18             15         2022   \n",
       "3          none        17071                 16             25         6782   \n",
       "4    infrequent        18725                 23             10         1980   \n",
       "\n",
       "   YearsOnJob  JobInvolvement  PerformanceRating  Gender  \\\n",
       "0           2               2                  4    Male   \n",
       "1          23               2                  4    Male   \n",
       "2           5               3                  3  Female   \n",
       "3           1               4                  3  Female   \n",
       "4           4               3                  4    Male   \n",
       "\n",
       "   TrainingTimesLastYear  ...  HourlyRate  MonthlyIncome  OverTime  \\\n",
       "0                      2  ...          33           4775        No   \n",
       "1                      3  ...          74          10748        No   \n",
       "2                      2  ...          72           4963       Yes   \n",
       "3                      2  ...         100          13194       Yes   \n",
       "4                      4  ...          96           2075        No   \n",
       "\n",
       "   JobSatisfaction EducationField         JobFunction  EducationalLevel  \\\n",
       "0                4  Life Sciences  Software Developer                L2   \n",
       "1                3  Life Sciences  Software Developer                L1   \n",
       "2                2  Life Sciences  Software Developer                L4   \n",
       "3                2  Life Sciences  Product Management                L3   \n",
       "4                4  Life Sciences  Software Developer                L4   \n",
       "\n",
       "   NumCompaniesWorked StockOptionLevel  YearsWithCurrManager  \n",
       "0                   6                2                     2  \n",
       "1                   3                1                     4  \n",
       "2                   9                3                     3  \n",
       "3                   4                0                     0  \n",
       "4                   3                2                     3  \n",
       "\n",
       "[5 rows x 30 columns]"
      ]
     },
     "execution_count": 45,
     "metadata": {},
     "output_type": "execute_result"
    }
   ],
   "source": [
    "# get the reference Dataset\n",
    "ref_df = pd.read_csv(ref_url)\n",
    "\n",
    "ref_df.head()"
   ]
  },
  {
   "cell_type": "code",
   "execution_count": null,
   "id": "f3953fc2",
   "metadata": {},
   "outputs": [],
   "source": []
  }
 ],
 "metadata": {
  "kernelspec": {
   "display_name": "Python [conda env:mygeneralml_p37_cpu_v1_0]",
   "language": "python",
   "name": "conda-env-mygeneralml_p37_cpu_v1_0-py"
  },
  "language_info": {
   "codemirror_mode": {
    "name": "ipython",
    "version": 3
   },
   "file_extension": ".py",
   "mimetype": "text/x-python",
   "name": "python",
   "nbconvert_exporter": "python",
   "pygments_lexer": "ipython3",
   "version": "3.7.12"
  }
 },
 "nbformat": 4,
 "nbformat_minor": 5
}
